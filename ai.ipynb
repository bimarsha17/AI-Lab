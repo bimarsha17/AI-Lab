{
  "cells": [
    {
      "cell_type": "markdown",
      "metadata": {
        "id": "view-in-github",
        "colab_type": "text"
      },
      "source": [
        "<a href=\"https://colab.research.google.com/github/bimarsha17/AI-Lab/blob/main/ai.ipynb\" target=\"_parent\"><img src=\"https://colab.research.google.com/assets/colab-badge.svg\" alt=\"Open In Colab\"/></a>"
      ]
    },
    {
      "cell_type": "code",
      "execution_count": 1,
      "id": "2ad11506",
      "metadata": {
        "colab": {
          "base_uri": "https://localhost:8080/"
        },
        "id": "2ad11506",
        "outputId": "a2899d32-1cf2-4b2e-ba5d-27d8ee731252"
      },
      "outputs": [
        {
          "output_type": "stream",
          "name": "stdout",
          "text": [
            "Enter the starting number 1\n",
            "Enter the last number 10\n",
            "Prime numbers in the range1 and 10:[2, 3, 5, 7]\n"
          ]
        }
      ],
      "source": [
        "#Prime number\n",
        "def is_prime(n):\n",
        "    if n<2:\n",
        "        return False\n",
        "    else:\n",
        "        for i in range(2,int(n**0.5)+1):\n",
        "            if n%i==0:\n",
        "                return False\n",
        "        return True\n",
        "\n",
        "def prime(start,end):\n",
        "    prime_n=[]\n",
        "    for n in range (start,end+1):\n",
        "        if is_prime(n):\n",
        "            prime_n.append(n)\n",
        "    return prime_n\n",
        "\n",
        "start=int(input(\"Enter the starting number \"))\n",
        "end=int(input(\"Enter the last number \"))\n",
        "result = prime(start,end)\n",
        "print(f\"Prime numbers in the range{start} and {end}:{result}\")\n",
        "\n",
        "\n",
        "\n",
        "\n",
        "\n"
      ]
    },
    {
      "cell_type": "code",
      "execution_count": null,
      "id": "943fcad0",
      "metadata": {
        "id": "943fcad0",
        "outputId": "0c596742-c84b-4b76-e1e0-6d075f761990"
      },
      "outputs": [
        {
          "name": "stdout",
          "output_type": "stream",
          "text": [
            "Enter a number:121\n",
            "The number is palindrome!\n"
          ]
        }
      ],
      "source": [
        "#Palindrome or not\n",
        "num=int(input(\"Enter a number:\"))\n",
        "temp=num\n",
        "rev=0\n",
        "while(num>0):\n",
        "    dig=num%10\n",
        "    rev=rev*10+dig\n",
        "    num=num//10\n",
        "if(temp==rev):\n",
        "    print(\"The number is palindrome!\")\n",
        "else:\n",
        "    print(\"Not a palindrome!\")\n",
        "\n"
      ]
    },
    {
      "cell_type": "code",
      "execution_count": null,
      "id": "836aa670",
      "metadata": {
        "id": "836aa670",
        "outputId": "2bf3e720-1720-4d50-8e21-02c675330f85"
      },
      "outputs": [
        {
          "name": "stdout",
          "output_type": "stream",
          "text": [
            "Enter No. of Terms: 5\n",
            "Fibonacci Series = 0, 1, 1, 2, 3, "
          ]
        }
      ],
      "source": [
        "10#Fibonacci series\n",
        "ft = 0\n",
        "st = 1\n",
        "n = int(input(\"Enter No. of Terms: \"))\n",
        "\n",
        "print(f\"Fibonacci Series = {ft}, {st}\", end=\", \")\n",
        "\n",
        "for i in range(1, n-1):\n",
        "    nt = ft + st\n",
        "    print(f\"{nt}\", end=\", \")\n",
        "    ft, st = st, nt\n",
        "\n"
      ]
    },
    {
      "cell_type": "code",
      "execution_count": null,
      "id": "f7ffb936",
      "metadata": {
        "id": "f7ffb936",
        "outputId": "9160e3fa-3c6d-4068-9428-4d3e704798f1"
      },
      "outputs": [
        {
          "name": "stdout",
          "output_type": "stream",
          "text": [
            "Welcome to the Number Guessing Game!\n",
            "I'm thinking of a number between 1 and 100.\n",
            "Make a guess: 50\n",
            "Too high. Try again.\n",
            "Make a guess: 40\n",
            "Too high. Try again.\n",
            "Make a guess: 20\n",
            "Too high. Try again.\n",
            "Make a guess: 10\n",
            "Too high. Try again.\n",
            "Make a guess: 5\n",
            "Congratulations! You guessed the number correctly.\n"
          ]
        }
      ],
      "source": [
        "#Number guessing game\n",
        "import random\n",
        "\n",
        "def guess_number_game():\n",
        "    number_to_guess = random.randint(1, 100)\n",
        "    guess = None\n",
        "\n",
        "    print(\"Welcome to the Number Guessing Game!\")\n",
        "    print(\"I'm thinking of a number between 1 and 100.\")\n",
        "    while guess != number_to_guess:\n",
        "        try:\n",
        "            guess = int(input(\"Make a guess: \"))\n",
        "            if guess < number_to_guess:\n",
        "                print(\"Too low. Try again.\")\n",
        "            elif guess > number_to_guess:\n",
        "                print(\"Too high. Try again.\")\n",
        "            else:\n",
        "                print(\"Congratulations! You guessed the number correctly.\")\n",
        "                break\n",
        "        except ValueError:\n",
        "            print(\"Please enter a valid number.\")\n",
        "\n",
        "guess_number_game()"
      ]
    },
    {
      "cell_type": "code",
      "execution_count": 3,
      "id": "752548b0",
      "metadata": {
        "colab": {
          "base_uri": "https://localhost:8080/"
        },
        "id": "752548b0",
        "outputId": "4355860e-fd20-4bcd-d22b-f8557467c665"
      },
      "outputs": [
        {
          "output_type": "stream",
          "name": "stdout",
          "text": [
            "Enter No. of Terms: 5\n",
            "Fibonacci Series = 0, 1, 1, 2, 3, "
          ]
        }
      ],
      "source": [
        "#Fibonacci series\n",
        "ft = 0\n",
        "st = 1\n",
        "n = int(input(\"Enter No. of Terms: \"))\n",
        "\n",
        "print(f\"Fibonacci Series = {ft}, {st}\", end=\", \")\n",
        "\n",
        "for i in range(1, n-1):\n",
        "    nt = ft + st\n",
        "    print(f\"{nt}\", end=\", \")\n",
        "    ft, st = st, nt\n",
        "\n"
      ]
    },
    {
      "cell_type": "code",
      "execution_count": null,
      "id": "8882f42c",
      "metadata": {
        "id": "8882f42c"
      },
      "outputs": [],
      "source": []
    }
  ],
  "metadata": {
    "kernelspec": {
      "display_name": "Python 3 (ipykernel)",
      "language": "python",
      "name": "python3"
    },
    "language_info": {
      "codemirror_mode": {
        "name": "ipython",
        "version": 3
      },
      "file_extension": ".py",
      "mimetype": "text/x-python",
      "name": "python",
      "nbconvert_exporter": "python",
      "pygments_lexer": "ipython3",
      "version": "3.11.5"
    },
    "colab": {
      "provenance": [],
      "include_colab_link": true
    }
  },
  "nbformat": 4,
  "nbformat_minor": 5
}